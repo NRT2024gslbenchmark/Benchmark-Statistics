{
 "cells": [
  {
   "cell_type": "code",
   "execution_count": null,
   "id": "60d5314a",
   "metadata": {
    "scrolled": true
   },
   "outputs": [
    {
     "name": "stdout",
     "output_type": "stream",
     "text": [
      " Stat Evaluation between NWM ID :664424\n",
      " against USGS station number 10109000\n",
      "data 1 (NWM) vs USGS NSE= [0.4394066] KGE= [0.53007462] r= [0.87717712]\n",
      " Stat Evaluation between NWM ID :666156\n",
      " against USGS station number 10113500\n"
     ]
    }
   ],
   "source": [
    "from Benchmark_statistics import stat_eval_at_point\n",
    "from Benchmark_statistics import Get_USGS_and_compute_statistics\n",
    "\n",
    "parameterCode = '00060'  # Discharge\n",
    "startDate = '1980-10-01'\n",
    "endDate = '2020-09-30'\n",
    "\n",
    "# List of USGS and Corresponsing NWM station name as USGS,NWM\n",
    "filelist = open(r\"./List.csv\",\"r\")\n",
    "line=filelist.readline ()\n",
    "line=filelist.readlines()\n",
    "for line in line:   \n",
    "    print(\" Stat Evaluation between NWM ID :\"+line.split(\",\")[1] +\" against USGS station number \"+line.split(\",\")[0])\n",
    "    NWM_data_path = \"path_to_NWM\"+\"//\"+line.split(\",\")[1].rstrip()+\".csv\"  \n",
    "    siteID=line.split(\",\")[0]\n",
    "    Get_USGS_and_compute_statistics(siteID,startDate,endDate,NWM_data_path)\n",
    "    \n",
    "    \n",
    "\n",
    "\n",
    "   "
   ]
  },
  {
   "cell_type": "code",
   "execution_count": 2,
   "id": "42589c20",
   "metadata": {},
   "outputs": [
    {
     "name": "stderr",
     "output_type": "stream",
     "text": [
      "C:\\Users\\fwolkeba.UA-NET\\AppData\\Roaming\\Python\\Python39\\site-packages\\pandas\\core\\computation\\expressions.py:21: UserWarning: Pandas requires version '2.8.4' or newer of 'numexpr' (version '2.8.1' currently installed).\n",
      "  from pandas.core.computation.check import NUMEXPR_INSTALLED\n"
     ]
    },
    {
     "name": "stdout",
     "output_type": "stream",
     "text": [
      " Stat Evaluation between NWM ID :664424\n",
      " against USGS station number 10109000\n",
      "NWM vs USGS NSE= [0.50235399] KGE= [0.56844494] r= [0.8844127]\n",
      " Stat Evaluation between NWM ID :666156\n",
      " against USGS station number 10113500\n",
      "NWM vs USGS NSE= [-9.37089475] KGE= [-1.82684894] r= [0.70600537]\n",
      " Stat Evaluation between NWM ID :4472049\n",
      " against USGS station number 10068500\n",
      "NWM vs USGS NSE= [-0.63429802] KGE= [0.23897693] r= [0.34360922]\n",
      " Stat Evaluation between NWM ID :4560060\n",
      " against USGS station number 10092700\n",
      "NWM vs USGS NSE= [-0.26572469] KGE= [0.42908329] r= [0.44621222]\n",
      " Stat Evaluation between NWM ID :4605050\n",
      " against USGS station number 10126000\n",
      "NWM vs USGS NSE= [0.09316597] KGE= [0.49864923] r= [0.58680027]\n",
      " Stat Evaluation between NWM ID :7887898\n",
      " against USGS station number 10011500\n",
      "NWM vs USGS NSE= [0.79121257] KGE= [0.83922928] r= [0.89025857]\n",
      " Stat Evaluation between NWM ID :7898927\n",
      " against USGS station number 10039500\n",
      "NWM vs USGS NSE= [0.56090613] KGE= [0.52575667] r= [0.83151373]\n",
      " Stat Evaluation between NWM ID :10092262\n",
      " against USGS station number 10130500\n",
      "NWM vs USGS NSE= [-0.58091567] KGE= [0.08762838] r= [0.71201115]\n",
      " Stat Evaluation between NWM ID :10093066\n",
      " against USGS station number 10131000\n",
      "NWM vs USGS NSE= [0.26508143] KGE= [0.12084983] r= [0.66218395]\n",
      " Stat Evaluation between NWM ID :10093110\n",
      " against USGS station number 10128500\n",
      "NWM vs USGS NSE= [0.73651317] KGE= [0.76020859] r= [0.86159334]\n",
      " Stat Evaluation between NWM ID :10273232\n",
      " against USGS station number 10141000\n",
      "NWM vs USGS NSE= [-1.64057439] KGE= [-1.50561702] r= [0.79283625]\n",
      " Stat Evaluation between NWM ID :10274270\n",
      " against USGS station number 10137500\n",
      "NWM vs USGS NSE= [0.40319658] KGE= [0.367648] r= [0.69375848]\n",
      " Stat Evaluation between NWM ID :10274616\n",
      " against USGS station number 10136500\n",
      "NWM vs USGS NSE= [-0.15239672] KGE= [-0.20467062] r= [0.83429551]\n",
      " Stat Evaluation between NWM ID :10277268\n",
      " against USGS station number 10134500\n",
      "NWM vs USGS NSE= [-2.23758238] KGE= [-0.82663958] r= [0.59295353]\n",
      " Stat Evaluation between NWM ID :10331001\n",
      " against USGS station number 10146400\n",
      "NWM vs USGS NSE= [0.43775249] KGE= [0.57107516] r= [0.66624899]\n",
      " Stat Evaluation between NWM ID :10349360\n",
      " against USGS station number 10150500\n",
      "NWM vs USGS NSE= [0.25403636] KGE= [0.56093127] r= [0.66043439]\n",
      " Stat Evaluation between NWM ID :10373622\n",
      " against USGS station number 10155000\n",
      "NWM vs USGS NSE= [0.64849772] KGE= [0.58977251] r= [0.82938192]\n",
      " Stat Evaluation between NWM ID :10373692\n",
      " against USGS station number 10154200\n",
      "NWM vs USGS NSE= [0.73665338] KGE= [0.74174653] r= [0.86216045]\n",
      " Stat Evaluation between NWM ID :10390290\n",
      " against USGS station number 10171000\n",
      "NWM vs USGS NSE= [-6087.98107371] KGE= [-28.48794985] r= [0.10975608]\n"
     ]
    }
   ],
   "source": [
    "from Benchmark_statistics import stat_eval_at_point\n",
    "from Benchmark_statistics import Get_USGS_and_compute_statistics\n",
    "\n",
    "# List of USGS and Corresponsing NWM station name as USGS,NWM\n",
    "filelist = open(r\"./List.csv\",\"r\")\n",
    "line=filelist.readline ()\n",
    "line=filelist.readlines()\n",
    "for line in line:   \n",
    "    print(\" Stat Evaluation between NWM ID :\"+line.split(\",\")[1] +\" against USGS station number \"+line.split(\",\")[0])\n",
    "    USGS_path = \"path_to_USGS\"+\"//\"+line.split(\",\")[0]+\".csv\"\n",
    "    NWM_data_path = \"path_to_NWM\"+\"//\"+line.split(\",\")[1].rstrip()+\".csv\"  \n",
    "    stat_eval_at_point(NWM_data_path,USGS_path)"
   ]
  },
  {
   "cell_type": "code",
   "execution_count": null,
   "id": "c9c88496",
   "metadata": {},
   "outputs": [],
   "source": []
  }
 ],
 "metadata": {
  "kernelspec": {
   "display_name": "Python 3 (ipykernel)",
   "language": "python",
   "name": "python3"
  },
  "language_info": {
   "codemirror_mode": {
    "name": "ipython",
    "version": 3
   },
   "file_extension": ".py",
   "mimetype": "text/x-python",
   "name": "python",
   "nbconvert_exporter": "python",
   "pygments_lexer": "ipython3",
   "version": "3.9.16"
  }
 },
 "nbformat": 4,
 "nbformat_minor": 5
}
