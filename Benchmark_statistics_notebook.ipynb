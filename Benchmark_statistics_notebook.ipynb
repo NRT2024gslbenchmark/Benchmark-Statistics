{
 "cells": [
  {
   "cell_type": "code",
   "execution_count": 1,
   "id": "851e230e",
   "metadata": {},
   "outputs": [
    {
     "name": "stderr",
     "output_type": "stream",
     "text": [
      "C:\\Users\\fwolkeba.UA-NET\\AppData\\Roaming\\Python\\Python39\\site-packages\\pandas\\core\\computation\\expressions.py:21: UserWarning: Pandas requires version '2.8.4' or newer of 'numexpr' (version '2.8.1' currently installed).\n",
      "  from pandas.core.computation.check import NUMEXPR_INSTALLED\n"
     ]
    },
    {
     "name": "stdout",
     "output_type": "stream",
     "text": [
      "data 1 vs data 2 NSE= [1.] KGE= [1.] r= [1.]\n"
     ]
    }
   ],
   "source": [
    "from Benchmark_statistics import stat_eval_at_point\n",
    "from Benchmark_statistics import Get_USGS_and_compute_statistics\n",
    "\n",
    "file_1_path='path_to_point_data_1_inluding_file_name.csv'\n",
    "file_2_path='path_to_point_data_1_inluding_file_name.csv'\n",
    "stat_eval_at_point(file_1_path,file_2_path)\n",
    "\n"
   ]
  },
  {
   "cell_type": "code",
   "execution_count": 2,
   "id": "ca254671",
   "metadata": {},
   "outputs": [
    {
     "name": "stdout",
     "output_type": "stream",
     "text": [
      "                                 USGS\n",
      "datetime                             \n",
      "1986-10-01 00:00:00+00:00  262.823529\n",
      "1986-10-02 00:00:00+00:00  262.000000\n",
      "1986-10-03 00:00:00+00:00  268.916667\n",
      "1986-10-04 00:00:00+00:00  253.041667\n",
      "1986-10-05 00:00:00+00:00  247.000000\n",
      "...                               ...\n",
      "2020-09-27 00:00:00+00:00   86.854167\n",
      "2020-09-28 00:00:00+00:00   86.581250\n",
      "2020-09-29 00:00:00+00:00   86.627083\n",
      "2020-09-30 00:00:00+00:00   90.485417\n",
      "2020-10-01 00:00:00+00:00   90.812500\n",
      "\n",
      "[12420 rows x 1 columns]\n",
      "           key_0                   datetime        USGS       Date         NWM\n",
      "0      10/1/1986  1986-10-01 00:00:00+00:00  262.823529  10/1/1986  262.823529\n",
      "1      10/2/1986  1986-10-02 00:00:00+00:00  262.000000  10/2/1986  262.000000\n",
      "2      10/3/1986  1986-10-03 00:00:00+00:00  268.916667  10/3/1986  268.916667\n",
      "3      10/4/1986  1986-10-04 00:00:00+00:00  253.041667  10/4/1986  253.041667\n",
      "4      10/5/1986  1986-10-05 00:00:00+00:00  247.000000  10/5/1986  247.000000\n",
      "...          ...                        ...         ...        ...         ...\n",
      "12413  9/25/2020  2020-09-25 00:00:00+00:00   87.196875  9/25/2020   87.196875\n",
      "12414  9/26/2020  2020-09-26 00:00:00+00:00   86.237500  9/26/2020   86.237500\n",
      "12415  9/27/2020  2020-09-27 00:00:00+00:00   86.854167  9/27/2020   86.854167\n",
      "12416  9/28/2020  2020-09-28 00:00:00+00:00   86.581250  9/28/2020   86.581250\n",
      "12418  9/30/2020  2020-09-30 00:00:00+00:00   90.485417  9/30/2020   90.485417\n",
      "\n",
      "[11541 rows x 5 columns]\n",
      "data 1 vs data 2 NSE= [1.] KGE= [1.] r= [1.]\n"
     ]
    }
   ],
   "source": [
    "USGS_saving_path='path_to_save_USGS_output_inluding_file_name.csv'\n",
    "NWM_data_path='path_to_NWM_output_inluding_file_name.csv'\n",
    "\n",
    "siteID = '10109000'  # LOGAN RIVER ABOVE STATE DAM, NEAR LOGAN, UT\n",
    "parameterCode = '00060'  # Discharge\n",
    "startDate = '1986-10-01'\n",
    "endDate = '2020-09-30'\n",
    "Get_USGS_and_compute_statistics(siteID,startDate,endDate,NWM_data_path,USGS_saving_path)"
   ]
  },
  {
   "cell_type": "code",
   "execution_count": null,
   "id": "60d5314a",
   "metadata": {},
   "outputs": [],
   "source": []
  }
 ],
 "metadata": {
  "kernelspec": {
   "display_name": "Python 3 (ipykernel)",
   "language": "python",
   "name": "python3"
  },
  "language_info": {
   "codemirror_mode": {
    "name": "ipython",
    "version": 3
   },
   "file_extension": ".py",
   "mimetype": "text/x-python",
   "name": "python",
   "nbconvert_exporter": "python",
   "pygments_lexer": "ipython3",
   "version": "3.9.16"
  }
 },
 "nbformat": 4,
 "nbformat_minor": 5
}
